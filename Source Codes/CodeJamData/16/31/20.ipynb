{
 "metadata": {
  "name": "",
  "signature": "sha256:2fcbe21df1d980f81d0c03ce55f5914c753e82b7114d465bcacc6e638d0db794"
 },
 "nbformat": 3,
 "nbformat_minor": 0,
 "worksheets": [
  {
   "cells": [
    {
     "cell_type": "code",
     "collapsed": false,
     "input": [
      "from Queue import PriorityQueue\n",
      "import time\n",
      "\n",
      "def evacuate (party_sizes):\n",
      "    print party_sizes\n",
      "    evac_q  = PriorityQueue()\n",
      "    for party_number, party_size in enumerate(party_sizes):\n",
      "        evac_q.put([-party_size, chr(ord('A') + party_number)])\n",
      "    \n",
      "    result = \"\"\n",
      "    while evac_q.qsize() != 0:\n",
      "        assert(evac_q.qsize() >= 2)\n",
      "        largest = evac_q.get()\n",
      "        largest2 = evac_q.get()\n",
      "        if largest[0] == -1  and largest2[0] == -1 and (evac_q.qsize()==1):\n",
      "            largest[0] += 1\n",
      "            result += largest[1] + \" \"\n",
      "        elif abs(largest[0]) == abs(largest2[0]):\n",
      "            largest[0] += 1\n",
      "            largest2[0] += 1\n",
      "            result += largest[1] + largest2[1] + \" \"\n",
      "        else :\n",
      "            largest[0] += 1\n",
      "            result += largest[1] + \" \"\n",
      "\n",
      "        if largest[0] != 0:\n",
      "            evac_q.put(largest)\n",
      "        if largest2[0] != 0:\n",
      "            evac_q.put(largest2)\n",
      "    return result\n",
      "    \n",
      "        "
     ],
     "language": "python",
     "metadata": {},
     "outputs": [],
     "prompt_number": 34
    },
    {
     "cell_type": "code",
     "collapsed": false,
     "input": [
      "f = open(r\"C:\\Users\\Vladimir Anisimov\\Documents\\Programming\\CodeJam\\Round1c\\A-small-attempt0.in\")\n",
      "res = open(r\"C:\\Users\\Vladimir Anisimov\\Documents\\Programming\\CodeJam\\Round1c\\A-small-attempt0.out\", \"w\")\n",
      "T = int(f.readline())\n",
      "input_lines = f.readlines()[1::2]\n",
      "assert(len(input_lines) == T)\n",
      "FORMAT = \"Case #{}: {}\\n\"\n",
      "for l, s in enumerate(input_lines):\n",
      "    res.write(FORMAT.format(l + 1, evacuate(map(int, s.split()))))\n",
      "    \n",
      "res.flush()"
     ],
     "language": "python",
     "metadata": {},
     "outputs": [
      {
       "output_type": "stream",
       "stream": "stdout",
       "text": [
        "[2, 2]\n",
        "[3, 2, 2]\n",
        "[1, 1, 2]\n",
        "[2, 3, 1]\n",
        "[3, 3, 3]\n",
        "[2, 3, 4]\n",
        "[1, 2, 2]\n",
        "[3, 3, 2]\n",
        "[4, 4]\n",
        "[1, 4, 4]\n",
        "[4, 2, 2]\n",
        "[1, 3, 3]\n",
        "[3, 4, 1]\n",
        "[2, 2, 4]\n",
        "[4, 1, 3]\n",
        "[4, 4, 1]\n",
        "[4, 3, 1]\n",
        "[4, 2, 3]\n",
        "[3, 1, 4]\n",
        "[2, 3, 2]\n",
        "[2, 1, 1]\n",
        "[2, 1, 3]\n",
        "[3, 4, 2]\n",
        "[3, 3]\n",
        "[3, 1, 2]\n",
        "[1, 2, 1]\n",
        "[2, 3, 3]\n",
        "[2, 2, 2]\n",
        "[3, 3, 1]\n",
        "[2, 4, 2]\n",
        "[1, 2, 3]\n",
        "[2, 2, 1]\n",
        "[1, 3, 4]\n",
        "[1, 3, 2]\n",
        "[4, 3, 2]\n",
        "[1, 1, 1]\n",
        "[4, 1, 4]\n",
        "[1, 4, 3]\n",
        "[2, 2, 3]\n",
        "[1, 1]\n",
        "[3, 2, 4]\n",
        "[2, 4, 3]\n",
        "[3, 2, 1]\n",
        "[3, 2, 3]\n",
        "[3, 1, 3]\n",
        "[2, 1, 2]\n"
       ]
      }
     ],
     "prompt_number": 38
    },
    {
     "cell_type": "code",
     "collapsed": false,
     "input": [],
     "language": "python",
     "metadata": {},
     "outputs": [
      {
       "metadata": {},
       "output_type": "pyout",
       "prompt_number": 17,
       "text": [
        "'AB AB '"
       ]
      }
     ],
     "prompt_number": 17
    },
    {
     "cell_type": "code",
     "collapsed": false,
     "input": [],
     "language": "python",
     "metadata": {},
     "outputs": [
      {
       "metadata": {},
       "output_type": "pyout",
       "prompt_number": 19,
       "text": [
        "[1, 3, 5, 7, 9]"
       ]
      }
     ],
     "prompt_number": 19
    }
   ],
   "metadata": {}
  }
 ]
}