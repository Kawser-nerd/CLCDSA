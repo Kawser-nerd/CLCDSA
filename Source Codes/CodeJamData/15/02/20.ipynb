{
 "cells": [
  {
   "cell_type": "code",
   "execution_count": 4,
   "metadata": {
    "collapsed": true
   },
   "outputs": [],
   "source": [
    "import itertools"
   ]
  },
  {
   "cell_type": "code",
   "execution_count": 1,
   "metadata": {
    "collapsed": true
   },
   "outputs": [],
   "source": [
    "def read_input(fin_name):\n",
    "    with open(fin_name, 'r') as fin:\n",
    "        nb_cases = int(fin.readline())\n",
    "        for _ in xrange(nb_cases):\n",
    "            fin.readline()\n",
    "            yield map(int, fin.readline().split())"
   ]
  },
  {
   "cell_type": "code",
   "execution_count": 5,
   "metadata": {
    "collapsed": true
   },
   "outputs": [],
   "source": [
    "def proceed(case):\n",
    "    p_max = max(case)\n",
    "    def evaluate_score(limit):\n",
    "        return limit + sum(itertools.imap(lambda x : (x + limit - 1) / limit - 1, case))\n",
    "    return min(itertools.imap(evaluate_score, xrange(1, 1+p_max)))"
   ]
  },
  {
   "cell_type": "code",
   "execution_count": 3,
   "metadata": {
    "collapsed": true
   },
   "outputs": [],
   "source": [
    "def runit(fin_name, fout_name):\n",
    "    with open(fout_name, 'w') as fout:\n",
    "        for i, case in enumerate(read_input(fin_name), 1):\n",
    "            fout.write('Case #{}: {}\\n'.format(i, proceed(case)))"
   ]
  },
  {
   "cell_type": "code",
   "execution_count": 7,
   "metadata": {
    "collapsed": true
   },
   "outputs": [],
   "source": [
    "runit('B-small-attempt0.in', 'B-small-attempt0.out')"
   ]
  },
  {
   "cell_type": "code",
   "execution_count": 8,
   "metadata": {
    "collapsed": true
   },
   "outputs": [],
   "source": [
    "runit('B-large.in', 'B-large.out')"
   ]
  },
  {
   "cell_type": "code",
   "execution_count": null,
   "metadata": {
    "collapsed": true
   },
   "outputs": [],
   "source": []
  }
 ],
 "metadata": {
  "kernelspec": {
   "display_name": "Python 2",
   "language": "python",
   "name": "python2"
  },
  "language_info": {
   "codemirror_mode": {
    "name": "ipython",
    "version": 2
   },
   "file_extension": ".py",
   "mimetype": "text/x-python",
   "name": "python",
   "nbconvert_exporter": "python",
   "pygments_lexer": "ipython2",
   "version": "2.7.9"
  }
 },
 "nbformat": 4,
 "nbformat_minor": 0
}
